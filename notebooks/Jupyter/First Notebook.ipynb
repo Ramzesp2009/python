{
 "cells": [
  {
   "cell_type": "markdown",
   "id": "e6e58dfd-739f-49d1-8946-5c3b40cd6126",
   "metadata": {},
   "source": [
    "# First Notebook"
   ]
  },
  {
   "cell_type": "markdown",
   "id": "b1697a55-fff6-4d03-9b5e-9aa7a4cdd992",
   "metadata": {},
   "source": [
    "## First Section"
   ]
  },
  {
   "cell_type": "code",
   "execution_count": 1,
   "id": "7ea4a3c2-cea6-4902-99bd-6cd223d26d4a",
   "metadata": {},
   "outputs": [
    {
     "data": {
      "text/plain": [
       "12"
      ]
     },
     "execution_count": 1,
     "metadata": {},
     "output_type": "execute_result"
    }
   ],
   "source": [
    "10 + 2"
   ]
  },
  {
   "cell_type": "code",
   "execution_count": 2,
   "id": "8c3a217a-9746-4bcc-958d-d780d3bec009",
   "metadata": {
    "scrolled": true
   },
   "outputs": [
    {
     "data": {
      "text/plain": [
       "'Bogdan'"
      ]
     },
     "execution_count": 2,
     "metadata": {},
     "output_type": "execute_result"
    }
   ],
   "source": [
    "my_name = 'Bogdan'\n",
    "my_name"
   ]
  },
  {
   "cell_type": "code",
   "execution_count": 3,
   "id": "1d5d685b-7e83-4f11-b84a-b31f98a3a811",
   "metadata": {},
   "outputs": [
    {
     "data": {
      "text/plain": [
       "'Bogdan'"
      ]
     },
     "execution_count": 3,
     "metadata": {},
     "output_type": "execute_result"
    }
   ],
   "source": [
    "my_name"
   ]
  },
  {
   "cell_type": "code",
   "execution_count": 4,
   "id": "21ac756a-d3b9-4782-86f7-8e3573fdeec5",
   "metadata": {},
   "outputs": [
    {
     "data": {
      "text/plain": [
       "'Alice'"
      ]
     },
     "execution_count": 4,
     "metadata": {},
     "output_type": "execute_result"
    }
   ],
   "source": [
    "my_name = 'Alice'\n",
    "my_name"
   ]
  },
  {
   "cell_type": "markdown",
   "id": "06d4cc2a-0ca9-4ee7-a250-736b80b707a7",
   "metadata": {},
   "source": [
    "## Second Section"
   ]
  },
  {
   "cell_type": "code",
   "execution_count": null,
   "id": "6b34ba67-349e-4de6-b057-3aadf27920db",
   "metadata": {},
   "outputs": [],
   "source": [
    "f\"My name is {my_nam}\""
   ]
  }
 ],
 "metadata": {
  "kernelspec": {
   "display_name": "Python 3 (ipykernel)",
   "language": "python",
   "name": "python3"
  },
  "language_info": {
   "codemirror_mode": {
    "name": "ipython",
    "version": 3
   },
   "file_extension": ".py",
   "mimetype": "text/x-python",
   "name": "python",
   "nbconvert_exporter": "python",
   "pygments_lexer": "ipython3",
   "version": "3.12.5"
  }
 },
 "nbformat": 4,
 "nbformat_minor": 5
}
